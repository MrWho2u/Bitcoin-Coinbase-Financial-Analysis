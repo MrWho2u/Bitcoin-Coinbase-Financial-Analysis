{
 "cells": [
  {
   "cell_type": "markdown",
   "id": "7870cd4e-822a-4fb8-9662-e07e98be5a19",
   "metadata": {},
   "source": [
    "### Import the required libraries and dependencies."
   ]
  },
  {
   "cell_type": "code",
   "execution_count": 5,
   "id": "078a02ed-b8f6-46c8-a8db-34251926c927",
   "metadata": {},
   "outputs": [],
   "source": [
    "import pandas as pd\n",
    "from pathlib import Path\n",
    "%matplotlib inline"
   ]
  },
  {
   "cell_type": "markdown",
   "id": "98a06b24-6a06-47c8-ab3a-209140039514",
   "metadata": {},
   "source": [
    "### Create paths and dataframes"
   ]
  },
  {
   "cell_type": "code",
   "execution_count": null,
   "id": "b2057729-9ee5-4919-b371-b737ddf00d76",
   "metadata": {},
   "outputs": [],
   "source": []
  }
 ],
 "metadata": {
  "kernelspec": {
   "display_name": "Python (dev)",
   "language": "python",
   "name": "dev"
  },
  "language_info": {
   "codemirror_mode": {
    "name": "ipython",
    "version": 3
   },
   "file_extension": ".py",
   "mimetype": "text/x-python",
   "name": "python",
   "nbconvert_exporter": "python",
   "pygments_lexer": "ipython3",
   "version": "3.9.13"
  }
 },
 "nbformat": 4,
 "nbformat_minor": 5
}
